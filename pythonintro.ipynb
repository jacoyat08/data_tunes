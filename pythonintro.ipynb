{
  "metadata": {
    "toc-autonumbering": true,
    "toc-showmarkdowntxt": true,
    "toc-showcode": true,
    "kernelspec": {
      "name": "python",
      "display_name": "Python (Pyodide)",
      "language": "python"
    },
    "language_info": {
      "codemirror_mode": {
        "name": "python",
        "version": 3
      },
      "file_extension": ".py",
      "mimetype": "text/x-python",
      "name": "python",
      "nbconvert_exporter": "python",
      "pygments_lexer": "ipython3",
      "version": "3.8"
    }
  },
  "nbformat_minor": 4,
  "nbformat": 4,
  "cells": [
    {
      "cell_type": "code",
      "source": "%pip install -q seaborn",
      "metadata": {
        "trusted": true
      },
      "execution_count": null,
      "outputs": []
    },
    {
      "cell_type": "code",
      "source": "import pandas as pd\nimport numpy as np\n%matplotlib inline\nimport matplotlib.pyplot as plt\nimport seaborn as sns\nsns.set_style('darkgrid')\nsns.set(font_scale=1.5)\nimport warnings\nwarnings.filterwarnings('ignore')",
      "metadata": {
        "tags": [],
        "trusted": true
      },
      "execution_count": null,
      "outputs": []
    },
    {
      "cell_type": "code",
      "source": "# Read in dataset from folder \ndf = pd.read_csv('')\n",
      "metadata": {
        "tags": [],
        "trusted": true
      },
      "execution_count": null,
      "outputs": []
    },
    {
      "cell_type": "markdown",
      "source": "#plot table of data set\ndf",
      "metadata": {}
    },
    {
      "cell_type": "code",
      "source": "df.columns",
      "metadata": {
        "trusted": true
      },
      "execution_count": null,
      "outputs": []
    },
    {
      "cell_type": "markdown",
      "source": "# Numerical Data Analysis ",
      "metadata": {}
    },
    {
      "cell_type": "markdown",
      "source": "The first thing to do with any data is to summarise it, which means to present it in a way that best tells the story. First you will look at numerical summaries and think about how it describes your data.\n",
      "metadata": {}
    },
    {
      "cell_type": "code",
      "source": "#show a numerical summary of your data\ndf.describe()",
      "metadata": {
        "trusted": true
      },
      "execution_count": null,
      "outputs": []
    },
    {
      "cell_type": "code",
      "source": "df10 = pd.DataFrame(np.random.rand(10, 4), columns=['', '', '', ''])",
      "metadata": {
        "tags": [],
        "trusted": true
      },
      "execution_count": null,
      "outputs": []
    },
    {
      "cell_type": "code",
      "source": "df10.describe()",
      "metadata": {
        "trusted": true
      },
      "execution_count": null,
      "outputs": []
    },
    {
      "cell_type": "code",
      "source": "# create tabular correlation matrix\ncorr = df10.corr()\n_, ax = plt.subplots(figsize=(13,10)) \n\n# graph correlation matrix\n_ = sns.heatmap(corr, ax=ax,\n                xticklabels=corr.columns.values,\n                yticklabels=corr.columns.values,\n                cmap='coolwarm')\n",
      "metadata": {
        "trusted": true
      },
      "execution_count": null,
      "outputs": []
    },
    {
      "cell_type": "markdown",
      "source": "# Visual Data Analysis ",
      "metadata": {}
    },
    {
      "cell_type": "markdown",
      "source": "Another techniques used for summarising data is using graphs, you will plot your data using different types of graphs. Think about how the graphs are displaying you data differently and how it describes your data.\n\n",
      "metadata": {}
    },
    {
      "cell_type": "code",
      "source": "#create a new dataframe to produce a bar plot of only values you want\ndf2 = pd.DataFrame(np.random.rand(10, 4), columns=[' ', ' ', ' ', ' '])",
      "metadata": {
        "tags": [],
        "trusted": true
      },
      "execution_count": null,
      "outputs": []
    },
    {
      "cell_type": "code",
      "source": "df2.plot.bar()",
      "metadata": {
        "trusted": true
      },
      "execution_count": null,
      "outputs": []
    },
    {
      "cell_type": "code",
      "source": "df2.plot.bar(stacked=True)",
      "metadata": {
        "trusted": true
      },
      "execution_count": null,
      "outputs": []
    },
    {
      "cell_type": "code",
      "source": "df2.plot.barh(stacked=True)",
      "metadata": {
        "trusted": true
      },
      "execution_count": null,
      "outputs": []
    },
    {
      "cell_type": "markdown",
      "source": "** Explain boxplot\n",
      "metadata": {}
    },
    {
      "cell_type": "code",
      "source": "df2.plot.box()",
      "metadata": {
        "trusted": true
      },
      "execution_count": null,
      "outputs": []
    },
    {
      "cell_type": "markdown",
      "source": "** Explain pie graph",
      "metadata": {}
    },
    {
      "cell_type": "code",
      "source": "series = pd.Series(3 * np.random.rand(4),index=[' ', ' ', ' ', ' '], name='data')",
      "metadata": {
        "tags": [],
        "trusted": true
      },
      "execution_count": null,
      "outputs": []
    },
    {
      "cell_type": "code",
      "source": "series.plot.pie(figsize=(6, 6))",
      "metadata": {
        "trusted": true
      },
      "execution_count": null,
      "outputs": []
    },
    {
      "cell_type": "code",
      "source": "df.plot(x = ' ' , y = ' ', kind='scatter')",
      "metadata": {
        "trusted": true
      },
      "execution_count": null,
      "outputs": []
    },
    {
      "cell_type": "code",
      "source": "df.plot.scatter(x =' ' , y = ' ', c =' ', s=50)",
      "metadata": {
        "trusted": true
      },
      "execution_count": null,
      "outputs": []
    },
    {
      "cell_type": "code",
      "source": "df.plot.scatter(x =' ' , y = ' ', c =' ', s=50)",
      "metadata": {
        "trusted": true
      },
      "execution_count": null,
      "outputs": []
    },
    {
      "cell_type": "code",
      "source": "df[' '].hist()",
      "metadata": {
        "trusted": true
      },
      "execution_count": null,
      "outputs": []
    },
    {
      "cell_type": "code",
      "source": "df[' '].diff().hist()",
      "metadata": {
        "trusted": true
      },
      "execution_count": null,
      "outputs": []
    },
    {
      "cell_type": "markdown",
      "source": "Rather than a histogram, we can get a smooth estimate of the distribution using a kernel density estimation",
      "metadata": {}
    },
    {
      "cell_type": "code",
      "source": "sns.distplot(df[' '])",
      "metadata": {
        "trusted": true
      },
      "execution_count": null,
      "outputs": []
    },
    {
      "cell_type": "code",
      "source": "sns.distplot(df[' '])",
      "metadata": {
        "trusted": true
      },
      "execution_count": null,
      "outputs": []
    },
    {
      "cell_type": "markdown",
      "source": "which plot type best visualize your data?\n\n\nwhat can you interpret about your data based on the different plots?\n",
      "metadata": {}
    },
    {
      "cell_type": "markdown",
      "source": "# Bivariate Data Analysis",
      "metadata": {}
    },
    {
      "cell_type": "markdown",
      "source": "The primary purpose of Bivariate Data is to compare the two sets of data or to find a relationship between the two variables.\n\nChoose two variables in your data you would like to compare.",
      "metadata": {}
    },
    {
      "cell_type": "code",
      "source": "fig, ax = plt.subplots(figsize=(14,8))\n\nax.set_ylabel(' ')\n\n# boxplot with two variables\n_ = df[[' ', ' ']].boxplot(by=' ', figsize=(13,8), vert=False, sym='b.', ax=ax)",
      "metadata": {
        "trusted": true
      },
      "execution_count": null,
      "outputs": []
    },
    {
      "cell_type": "code",
      "source": "#linear regression of two variables\nplt.figure(figsize=(14,8))\n_ = sns.regplot(data=df, x=' ', y=' ')",
      "metadata": {
        "trusted": true
      },
      "execution_count": null,
      "outputs": []
    },
    {
      "cell_type": "code",
      "source": "sns.jointplot(\" \", \" \", data=df, kind='reg')",
      "metadata": {
        "trusted": true
      },
      "execution_count": null,
      "outputs": []
    },
    {
      "cell_type": "code",
      "source": "# only view these two variables \ndf[[' ', ' ']].corr()\n",
      "metadata": {
        "trusted": true
      },
      "execution_count": null,
      "outputs": []
    },
    {
      "cell_type": "code",
      "source": "# create tabular correlation matrix\ncorr = df.corr()\n_, ax = plt.subplots(figsize=(13,10)) \n\n# graph correlation matrix\n_ = sns.heatmap(corr, ax=ax,\n                xticklabels=corr.columns.values,\n                yticklabels=corr.columns.values,\n                cmap='coolwarm')",
      "metadata": {
        "trusted": true
      },
      "execution_count": null,
      "outputs": []
    },
    {
      "cell_type": "markdown",
      "source": "What does it mean when variables are correlated?\n\nWere the two variables you chose correlated ?\n\nWhich two varaibles have the highest corralation?\n",
      "metadata": {}
    }
  ]
}