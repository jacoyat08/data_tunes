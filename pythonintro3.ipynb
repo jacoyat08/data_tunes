{
  "metadata": {
    "deepnote": {},
    "deepnote_notebook_id": "fb186da165f04ac9a6368c7a91474800",
    "deepnote_execution_queue": [],
    "language_info": {
      "codemirror_mode": {
        "name": "python",
        "version": 3
      },
      "file_extension": ".py",
      "mimetype": "text/x-python",
      "name": "python",
      "nbconvert_exporter": "python",
      "pygments_lexer": "ipython3",
      "version": "3.8"
    },
    "kernelspec": {
      "name": "python",
      "display_name": "Python (Pyodide)",
      "language": "python"
    }
  },
  "nbformat_minor": 4,
  "nbformat": 4,
  "cells": [
    {
      "cell_type": "code",
      "source": "import pandas as pd\n\ndf = pd.read_csv(\"\")\ndf.head()",
      "metadata": {
        "tags": [],
        "cell_id": "e0a20fa095de40c08b4e71d49eefeee3",
        "source_hash": "f8cbf1dc",
        "execution_start": 1671339340094,
        "execution_millis": 108,
        "deepnote_to_be_reexecuted": false,
        "deepnote_cell_type": "code",
        "trusted": true
      },
      "execution_count": null,
      "outputs": []
    },
    {
      "cell_type": "code",
      "source": "df.info()",
      "metadata": {
        "tags": [],
        "cell_id": "cc73161354e543ba81c2586938d9d107",
        "source_hash": "de1e323c",
        "execution_start": 1671339340203,
        "execution_millis": 9,
        "deepnote_to_be_reexecuted": false,
        "deepnote_cell_type": "code",
        "trusted": true
      },
      "execution_count": null,
      "outputs": []
    },
    {
      "cell_type": "markdown",
      "source": "# Respondents' background\n## 1. Music",
      "metadata": {
        "tags": [],
        "cell_id": "456bfe5e-b68e-4460-a8ba-c7ffd4e88057",
        "is_collapsed": false,
        "formattedRanges": [],
        "deepnote_cell_type": "text-cell-h1"
      }
    },
    {
      "cell_type": "code",
      "source": "import matplotlib.pyplot as plt\n\ns_colors = ['lightgreen', 'lightcoral', 'steelblue', 'palevioletred', 'gold', 'darkturquoise']\n\nservices = df[''].value_counts()\nservices.plot(kind='pie', colors = s_colors)\n\nplt.title('Streaming services by popularity')\nplt.ylabel(\"\")",
      "metadata": {
        "tags": [],
        "cell_id": "4e1c150535f444e186ab43e9ef1e61fb",
        "source_hash": "1c05686",
        "execution_start": 1671339341314,
        "execution_millis": 229,
        "deepnote_to_be_reexecuted": false,
        "deepnote_cell_type": "code",
        "trusted": true
      },
      "execution_count": null,
      "outputs": []
    },
    {
      "cell_type": "code",
      "source": "df[''].value_counts(normalize=True)",
      "metadata": {
        "tags": [],
        "cell_id": "c59c49a21f234bd69f4f4d079c12b8ee",
        "source_hash": "41d3b0ef",
        "execution_start": 1671339341543,
        "execution_millis": 12,
        "deepnote_to_be_reexecuted": false,
        "deepnote_cell_type": "code",
        "trusted": true
      },
      "execution_count": null,
      "outputs": []
    },
    {
      "cell_type": "code",
      "source": "%pip install -q seaborn",
      "metadata": {
        "trusted": true
      },
      "execution_count": null,
      "outputs": []
    },
    {
      "cell_type": "code",
      "source": "import seaborn as sns\n\ns_colors2 = ['lightgreen', 'darkturquoise', 'lightcoral', 'steelblue', 'palevioletred', 'gold']\n\ndf.replace(['Other streaming service', 'I do not use a streaming service.', 'YouTube Music'],\n                       ['Other', 'None', 'YouTube'], inplace=True)\n\nbplot = sns.boxplot(data=df, x=\"Primary streaming service\", y = \"Age\",\n            showfliers = False,\n            palette = s_colors2)\n\nplt.title('Streaming services by Age')",
      "metadata": {
        "tags": [],
        "cell_id": "f728d86ea6644979aa819365e77987c4",
        "source_hash": "ce47e811",
        "execution_start": 1671339341551,
        "execution_millis": 1395,
        "deepnote_to_be_reexecuted": false,
        "deepnote_cell_type": "code",
        "trusted": true
      },
      "execution_count": null,
      "outputs": []
    },
    {
      "cell_type": "code",
      "source": "df['Hours per day'].value_counts().loc[lambda x : x>100]",
      "metadata": {
        "trusted": true
      },
      "execution_count": null,
      "outputs": []
    },
    {
      "cell_type": "code",
      "source": "bins = 5\ndf.hist(column = ['Hours per day'], by='Primary streaming service', bins=bins, density=True, color = 'slateblue', grid=False)",
      "metadata": {
        "tags": [],
        "cell_id": "e3b6750777494497b33594420d2c0384",
        "source_hash": "924b6ac2",
        "execution_start": 1671339342991,
        "execution_millis": 344,
        "deepnote_to_be_reexecuted": false,
        "deepnote_cell_type": "code",
        "trusted": true
      },
      "execution_count": null,
      "outputs": []
    },
    {
      "cell_type": "code",
      "source": "df['Hours per day'].value_counts().loc[lambda x : x>100]",
      "metadata": {
        "tags": [],
        "cell_id": "7face6c3a08742fd98ca894d8c508ff3",
        "source_hash": "eaf85e07",
        "execution_start": 1671339343337,
        "execution_millis": 6657194,
        "deepnote_to_be_reexecuted": false,
        "deepnote_cell_type": "code",
        "trusted": true
      },
      "execution_count": null,
      "outputs": []
    },
    {
      "cell_type": "code",
      "source": "fig = plt.figure(figsize=(6,2))\n\nplt.suptitle(\"Musical background\")\n\nax = fig.add_subplot(121)\n\ninst = df['Instrumentalist'].value_counts()\ninst.plot(kind='pie', colors = [\"indianred\", \"darkblue\"], labeldistance = 1.2)\n\nax = fig.add_subplot(122)\n\ncomp = df['Composer'].value_counts()\ncomp.plot(kind='pie', colors = [\"indianred\", \"darkblue\"], labeldistance = 1.2)",
      "metadata": {
        "tags": [],
        "cell_id": "b4cfa95623da4cd3b3374c72aa47c778",
        "source_hash": "88aa2534",
        "execution_start": 1671339343382,
        "execution_millis": 176,
        "deepnote_to_be_reexecuted": false,
        "deepnote_cell_type": "code",
        "trusted": true
      },
      "execution_count": null,
      "outputs": []
    },
    {
      "cell_type": "markdown",
      "source": "Most respondents do not play an instrument. It is even rarer for a respondent to compose music.",
      "metadata": {
        "tags": [],
        "cell_id": "49e4d9d863694a9fb6d55595fba64989",
        "is_collapsed": false,
        "formattedRanges": [],
        "deepnote_cell_type": "text-cell-p"
      }
    },
    {
      "cell_type": "code",
      "source": "df.replace(['No', 'Yes'],\n                       [0, 1], inplace=True)",
      "metadata": {
        "tags": [],
        "cell_id": "44900239046847f68defe8365dc1e0a3",
        "source_hash": "22b530fe",
        "execution_start": 1671339343624,
        "execution_millis": 7,
        "deepnote_to_be_reexecuted": false,
        "deepnote_cell_type": "code",
        "trusted": true
      },
      "execution_count": null,
      "outputs": []
    },
    {
      "cell_type": "code",
      "source": "labels = ['Anxiety', 'Depression','Insomnia', 'OCD']\nx = np.arange(len(labels))\nwidth = 0.15\n\nfig, ax = plt.subplots(figsize=(10, 5))\n\nb1 = ax.bar(x-2*width, df[(df.Instrumentalist == 0)].median()[-4:], width, color = 'indianred', label = \"Non Instrumentalist\")\nb2 = ax.bar(x-width, df[(df.Instrumentalist == 1)].median()[-4:], width, color = 'darkred', label = \"Instrumentalist\")\nb3 = ax.bar(x, df[(df.Composer == 0)].median()[-4:], width, color = 'cornflowerblue', label = \"Non Composer\")\nb4 = ax.bar(x+width, df[(df.Composer == 1)].median()[-4:], width, color = 'darkblue', label = \"Composer\")\n\nax.set_ylim([0, 8])\nax.set_ylabel('Ranking')\nax.set_title('Mental health ranking distribution')\nax.set_xticks(x, labels)\nax.legend()\n\nplt.show()",
      "metadata": {
        "tags": [],
        "cell_id": "0fcd5e175dbb48109e0f247da63e6aff",
        "source_hash": "27a7d5bc",
        "execution_start": 1671340526358,
        "execution_millis": 797,
        "deepnote_to_be_reexecuted": false,
        "deepnote_cell_type": "code",
        "trusted": true
      },
      "execution_count": null,
      "outputs": []
    },
    {
      "cell_type": "markdown",
      "source": "Instrumentalists and composers have slightly higher MH rankings. However, OCD rankings are low regardless of musical background.",
      "metadata": {
        "tags": [],
        "cell_id": "fb91a4b0c5b746058b85df97ca4b7941",
        "is_collapsed": false,
        "formattedRanges": [],
        "deepnote_cell_type": "text-cell-p"
      }
    },
    {
      "cell_type": "code",
      "source": "corr_m = df.corr()\ncorr_m1 = corr_m.iloc[:-5 , :-5]\n\nmask = np.triu(corr_m1)\n\nsns.heatmap(corr_m1, annot=True, mask=mask, cmap = 'YlOrRd')\nplt.show()",
      "metadata": {
        "tags": [],
        "cell_id": "a815ae34225a49aea851470e25a8af8a",
        "source_hash": "ee1e4802",
        "execution_start": 1671339343683,
        "execution_millis": 382,
        "deepnote_to_be_reexecuted": false,
        "deepnote_cell_type": "code",
        "trusted": true
      },
      "execution_count": null,
      "outputs": []
    },
    {
      "cell_type": "markdown",
      "source": "**Strong linear trends**\n\nAs expected, there is a a significant correlation between individuals that play music and individuals that compose music. Similarly, there is also a strong relationship between the total hours listening per day and hours listening while working.\n\n**Weaker linear trends: exploratory respondents**\n\n- The more hours spent listening to music, the more likely an individual actively explores new music.\n- Individuals that listen to music while working are more likely to explore new music and listen to music in different languages.\n- Individuals that listen to music in foreign languages are more likely to explore new music.\n- Older individuals are less inclined to explore new music.",
      "metadata": {
        "tags": [],
        "cell_id": "c665c8efbe224f98926244050c93bec5",
        "is_collapsed": false,
        "formattedRanges": [
          {
            "type": "marks",
            "marks": {
              "bold": true
            },
            "toCodePoint": 20,
            "fromCodePoint": 0
          }
        ],
        "deepnote_cell_type": "text-cell-p"
      }
    },
    {
      "cell_type": "markdown",
      "source": "## 2. Mental health",
      "metadata": {
        "tags": [],
        "cell_id": "3e325d31-b73d-40e4-8d01-0fb27b05380a",
        "is_collapsed": false,
        "formattedRanges": [],
        "deepnote_cell_type": "text-cell-h2"
      }
    },
    {
      "cell_type": "code",
      "source": "m_all = [\"Anxiety\", \"Depression\", \"Insomnia\", \"OCD\"]\n\nmental_df = df[m_all]\nmental_df.round(0).astype(int)\n\ndisorder_count = []\nfor disorder in m_all:\n    x=0\n    while x !=11:\n        count =  (mental_df[disorder].values == x).sum()\n        disorder_count.append(count)\n        x +=1\n\nlabels = ['0','1', '2', '3', '4', '5', '6', '7', '8', '9', '10']\nx = np.arange(len(labels))\nwidth = 0.15\n\nfig, ax = plt.subplots(figsize=(13, 9))\n\nb1 = ax.bar(x-2*width, disorder_count[0:11], width, label=\"Anxiety\", color = 'lightpink')\nb2 = ax.bar(x-width, disorder_count[11:22], width, label=\"Depression\", color = 'cornflowerblue')\nb3 = ax.bar(x, disorder_count[22:33], width, label=\"Insomnia\", color = 'darkmagenta')\nb4 = ax.bar(x+width, disorder_count[33:], width, label=\"OCD\", color = 'orange')\n\nax.set_ylim([0, 170])\nax.set_ylabel('Number of Rankings')\nax.set_xlabel('Ranking')\nax.set_title('Mental health ranking distribution')\nax.set_xticks(x, labels)\nax.legend()\n\nplt.show()",
      "metadata": {
        "tags": [],
        "cell_id": "4a326cd7f6bd4e47a77f651027ba45bb",
        "source_hash": "258ac091",
        "execution_start": 1671340559064,
        "execution_millis": 544,
        "deepnote_to_be_reexecuted": false,
        "deepnote_cell_type": "code",
        "trusted": true
      },
      "execution_count": null,
      "outputs": []
    },
    {
      "cell_type": "code",
      "source": "# get value for number of OCD rankings at 0\n\nmax(disorder_count)",
      "metadata": {
        "tags": [],
        "cell_id": "2ab42315a2834fbba86e60a8964a9b3c",
        "source_hash": "9b38a2ea",
        "execution_start": 1671339344555,
        "execution_millis": 6,
        "deepnote_to_be_reexecuted": false,
        "deepnote_cell_type": "code",
        "trusted": true
      },
      "execution_count": null,
      "outputs": []
    },
    {
      "cell_type": "code",
      "source": "for disorder in m_all:\n    d_avg = str(round(df[disorder].mean(), 2))\n    print(disorder + ' average: ' + d_avg)",
      "metadata": {
        "tags": [],
        "cell_id": "d6670943f5634b8d87e0179b828fa282",
        "source_hash": "bb943a74",
        "execution_start": 1671339344566,
        "execution_millis": 3,
        "deepnote_to_be_reexecuted": false,
        "deepnote_cell_type": "code",
        "trusted": true
      },
      "execution_count": null,
      "outputs": []
    },
    {
      "cell_type": "markdown",
      "source": "### Listening time & MH",
      "metadata": {
        "tags": [],
        "cell_id": "656a4337-786c-404a-a878-a42a58134744",
        "is_collapsed": false,
        "formattedRanges": [],
        "deepnote_cell_type": "text-cell-h3"
      }
    },
    {
      "cell_type": "code",
      "source": "anxiety_extreme = df.loc[(df['Anxiety'] > 8)].mean()[1]\ndepression_extreme = df.loc[(df['Depression'] > 8)].mean()[1]\ninsomnia_extreme = df.loc[(df['Insomnia'] > 8)].mean()[1]\nocd_extreme = df.loc[(df['OCD'] > 8)].mean()[1]\n\nextreme_means = [anxiety_extreme, depression_extreme, insomnia_extreme, ocd_extreme]\n\nplt.barh(m_all, extreme_means, color=('lightpink', 'cornflowerblue', 'darkmagenta', 'orange'))\n  \nplt.xlabel(\"Avg hours listened\")\nplt.title(\"Hours listened for individuals with extreme MH rankings\")\nplt.xlim(3,5.5)\nplt.show()\n",
      "metadata": {
        "tags": [],
        "cell_id": "a1ebcfdbe9564eb3a9fc066a1f47e20f",
        "source_hash": "1fd6f247",
        "execution_start": 1671339344576,
        "execution_millis": 297,
        "deepnote_to_be_reexecuted": false,
        "deepnote_cell_type": "code",
        "trusted": true
      },
      "execution_count": null,
      "outputs": []
    },
    {
      "cell_type": "code",
      "source": "anxiety_extreme2 = df.loc[(df['Anxiety'] < 3)].mean()[1]\ndepression_extreme2 = df.loc[(df['Depression'] < 3)].mean()[1]\ninsomnia_extreme2 = df.loc[(df['Insomnia'] < 3)].mean()[1]\nocd_extreme2 = df.loc[(df['OCD'] < 3)].mean()[1]\n\nextreme_means = [anxiety_extreme, depression_extreme, insomnia_extreme, ocd_extreme]\n\nplt.barh(m_all, extreme_means, color=('lightpink', 'cornflowerblue', 'darkmagenta', 'orange'))\n  \nplt.xlabel(\"Avg hours listened\")\nplt.title(\"Hours listened for individuals with low MH rankings\")\nplt.xlim(3,4)\nplt.show()\n",
      "metadata": {
        "tags": [],
        "cell_id": "d802ec6e4000411697f3628a1c16a292",
        "source_hash": "63132dfe",
        "execution_start": 1671339344885,
        "execution_millis": 296,
        "deepnote_to_be_reexecuted": false,
        "deepnote_cell_type": "code"
      },
      "execution_count": null,
      "outputs": []
    },
    {
      "cell_type": "code",
      "source": "corr_m2 = corr_m.iloc[8: , 8:]\nmask = np.triu(corr_m2)\n\nsns.heatmap(corr_m2, annot=True, mask=mask, cmap = 'YlOrRd')\nplt.show()",
      "metadata": {
        "tags": [],
        "cell_id": "2b10bd278ea3487daa8245c8483d456b",
        "source_hash": "2ebcf020",
        "execution_start": 1671339345187,
        "execution_millis": 318,
        "deepnote_to_be_reexecuted": false,
        "deepnote_cell_type": "code"
      },
      "execution_count": null,
      "outputs": []
    },
    {
      "cell_type": "code",
      "source": "plt.figure(figsize=(5,4))\nplt.title('Effects of Music on Mental Health')\n\neffects = df['Music effects'].value_counts()\neffects.plot(kind='pie', colors = [\"indianred\", \"gold\", \"darkblue\"], ylabel= '');",
      "metadata": {
        "tags": [],
        "cell_id": "18bd0638ad434ce0b62cffb2261635a9",
        "source_hash": "ad1e5602",
        "execution_start": 1671339345509,
        "execution_millis": 143,
        "deepnote_to_be_reexecuted": false,
        "deepnote_cell_type": "code"
      },
      "execution_count": null,
      "outputs": []
    },
    {
      "cell_type": "code",
      "source": "effects",
      "metadata": {
        "tags": [],
        "cell_id": "12d061e5238445dea3c17d1b8e673461",
        "source_hash": "9f730a46",
        "execution_start": 1671339345651,
        "execution_millis": 9,
        "deepnote_to_be_reexecuted": false,
        "deepnote_cell_type": "code"
      },
      "execution_count": null,
      "outputs": []
    },
    {
      "cell_type": "markdown",
      "source": "# Music genres",
      "metadata": {
        "tags": [],
        "cell_id": "f0eb1741-c99a-4c19-a7cc-3069d96c682b",
        "is_collapsed": false,
        "formattedRanges": [],
        "deepnote_cell_type": "text-cell-h1"
      }
    },
    {
      "cell_type": "code",
      "source": "genre = df[\"Fav genre\"].value_counts().loc[lambda x: x>10]\ngenre.plot(kind='pie', labeldistance = 1.2, \n            explode=[0.05, 0, 0, 0, 0, 0, 0, 0, 0, 0, 0, 0, 0,], \n            colors = sns.color_palette('pastel')[0:13])\n\nplt.title('Top genre breakdown')\nplt.ylabel(\"\")",
      "metadata": {
        "tags": [],
        "cell_id": "6ebcbf534f1642fd9f2770aa5b8e8760",
        "source_hash": "83158442",
        "execution_start": 1671339345665,
        "execution_millis": 364,
        "deepnote_to_be_reexecuted": false,
        "deepnote_cell_type": "code"
      },
      "execution_count": null,
      "outputs": []
    },
    {
      "cell_type": "code",
      "source": "# age and genre\n\nsns.scatterplot(data=df, y=\"Fav genre\", x=\"Age\", alpha = 0.5, marker = \"X\", color = \"sienna\")\nplt.title('Age distribution by genre');\n",
      "metadata": {
        "tags": [],
        "cell_id": "dd8497501c7246e392477acefbcbac10",
        "source_hash": "19320759",
        "execution_start": 1671339346054,
        "execution_millis": 455,
        "deepnote_to_be_reexecuted": false,
        "deepnote_cell_type": "code"
      },
      "execution_count": null,
      "outputs": []
    },
    {
      "cell_type": "code",
      "source": "df.replace(['Video game music'],\n                       ['Video game'], inplace=True)\n\ng_all = df['Fav genre'].unique()\ng_all.sort()\nfg_df = df.groupby(['Fav genre'])\nfg_dist = fg_df['Music effects'].value_counts(ascending=False, normalize=True).tolist()\n\ninsert_indices = [5, 8, 11, 13, 14, 17, 20, 23, 26, 28, 29, 32, 38]\nfor i in range(len(insert_indices)):\n    fg_dist.insert(insert_indices[i], 0)\n\nimp_dist = fg_dist[0::3]\nno_eff_dist = fg_dist[1::3]\nwors_dist = fg_dist[2::3]\n\nwidth = 0.22\n\nx = np.arange(len(g_all))\n\nfig, ax = plt.subplots(figsize=(13, 9))\n\nb1 = ax.bar(x-width, imp_dist, width, label=\"Improve\", color = 'indianred')\nb2 = ax.bar(x, no_eff_dist, width, label=\"No effect\", color = 'gold')\nb3 = ax.bar(x+width, wors_dist, width, label=\"Worsen\", color = 'darkblue')\n\nplt.title(\"Music effects by Favorite Genre\")\nax.set_ylabel('Distribution')\nax.set_xlabel('Genre')\nax.set_xticks(x, g_all, rotation = 45)\nax.legend()\n\nplt.show()",
      "metadata": {
        "tags": [],
        "cell_id": "bae3a8e945b74a30b488706353d808db",
        "source_hash": "484c4144",
        "execution_start": 1671339346520,
        "execution_millis": 410,
        "deepnote_to_be_reexecuted": false,
        "deepnote_cell_type": "code"
      },
      "execution_count": null,
      "outputs": []
    },
    {
      "cell_type": "markdown",
      "source": "### BPM",
      "metadata": {
        "tags": [],
        "cell_id": "26521e0d6baa44c9bc072fd94020da4d",
        "is_collapsed": false,
        "formattedRanges": [],
        "deepnote_cell_type": "text-cell-h3"
      }
    },
    {
      "cell_type": "code",
      "source": "print(df['BPM'].max())\nprint(df['BPM'].min())",
      "metadata": {
        "tags": [],
        "cell_id": "8ba52e41cb964045a2aea2dcd2fb6306",
        "source_hash": "c2cd9fa6",
        "execution_start": 1671339346931,
        "execution_millis": 5,
        "deepnote_to_be_reexecuted": false,
        "deepnote_cell_type": "code"
      },
      "execution_count": null,
      "outputs": []
    },
    {
      "cell_type": "markdown",
      "source": "The survey system isn't perfect. Online trolls claiming to listen to music with 999999999 BPM may mess up data.",
      "metadata": {
        "tags": [],
        "cell_id": "d89c15413ea54054b795b1977f501d2f",
        "is_collapsed": false,
        "formattedRanges": [],
        "deepnote_cell_type": "text-cell-p"
      }
    },
    {
      "cell_type": "code",
      "source": "# filter out noise by creating upper and lower bounds\n\ndf = df[(df.BPM < 500) & (df.BPM > 20)]\nprint(df['BPM'].max())\nprint(df['BPM'].min())",
      "metadata": {
        "tags": [],
        "cell_id": "98655a30425740b79c265a0aed66b0af",
        "source_hash": "9d220dac",
        "execution_start": 1671339346938,
        "execution_millis": 4,
        "deepnote_to_be_reexecuted": false,
        "deepnote_cell_type": "code"
      },
      "execution_count": null,
      "outputs": []
    },
    {
      "cell_type": "code",
      "source": "sns.catplot(\n    data=df.sort_values(\"Fav genre\"),\n    x=\"Fav genre\", y=\"BPM\", kind=\"boxen\",\n    height=6, aspect=2,\n    width = 0.5,\n    showfliers=False,\n)\n\nplt.xticks(rotation = 45)\nplt.title('Genre vs BPM')\nplt.ylim(50, 210)\nplt.show()",
      "metadata": {
        "tags": [],
        "cell_id": "83ba92961c7a4fb7aaa5c9b39004e5bd",
        "source_hash": "f673231",
        "execution_start": 1671339346948,
        "execution_millis": 608,
        "deepnote_to_be_reexecuted": false,
        "deepnote_cell_type": "code"
      },
      "execution_count": null,
      "outputs": []
    },
    {
      "cell_type": "code",
      "source": "fig = plt.figure(figsize=(8, 5))\n\nplt.suptitle(\"BPM vs Mental Health\")\n\ny = df[\"Anxiety\"]\ny2 = df[\"Depression\"]\ny3 = df[\"Insomnia\"]\ny4 = df[\"OCD\"]\nx = df[\"BPM\"]\n\nax = fig.add_subplot(221)\nplt.title('Anxiety')\nplt.xticks([])\nplt.ylabel('Mental health ranking')\nplt.hist2d(x,y, density = True);\n\n\nax = fig.add_subplot(222)\nplt.title('Depression')\nplt.xticks([])\nplt.hist2d(x,y2, density = True);\n\nax = fig.add_subplot(223)\nplt.title('Insomnia')\nplt.ylabel('Mental health ranking')\nplt.xlabel('BPM')\nplt.hist2d(x,y3, density = True);\n\nax = fig.add_subplot(224)\nplt.title('OCD')\nplt.xlabel('BPM')\nplt.hist2d(x,y4, density = True);",
      "metadata": {
        "tags": [],
        "cell_id": "7d157756a9144df2ad7c46c4726cf39f",
        "source_hash": "4eb3bc90",
        "execution_start": 1671339347566,
        "execution_millis": 762,
        "deepnote_to_be_reexecuted": false,
        "deepnote_cell_type": "code"
      },
      "execution_count": null,
      "outputs": []
    },
    {
      "cell_type": "code",
      "source": "df['MH Score'] = df['Anxiety'] + df['Depression'] + df['Insomnia'] + df['OCD']",
      "metadata": {
        "tags": [],
        "cell_id": "b0909653bbee4392bf9e9e31e6996486",
        "deepnote_cell_type": "code"
      },
      "execution_count": null,
      "outputs": []
    },
    {
      "cell_type": "code",
      "source": "df.nsmallest(50, ['MH Score'])['BPM'].mean()",
      "metadata": {
        "tags": [],
        "cell_id": "eda6eab89b844e97a575c1046be7ac3d",
        "source_hash": "ed1a2ca3",
        "execution_start": 1671343700317,
        "execution_millis": 4,
        "deepnote_to_be_reexecuted": false,
        "deepnote_cell_type": "code"
      },
      "execution_count": null,
      "outputs": []
    },
    {
      "cell_type": "code",
      "source": "df.nlargest(50, ['MH Score'])['BPM'].mean()",
      "metadata": {
        "tags": [],
        "cell_id": "88058c02ae524ce4970efd20ffb39b2c",
        "source_hash": "2bca7ab6",
        "execution_start": 1671343695668,
        "execution_millis": 8,
        "deepnote_to_be_reexecuted": false,
        "deepnote_cell_type": "code"
      },
      "execution_count": null,
      "outputs": []
    },
    {
      "cell_type": "markdown",
      "source": "### Genres",
      "metadata": {
        "tags": [],
        "cell_id": "a74b1769-13d8-43df-a70d-7b3f5a62e7a7",
        "is_collapsed": false,
        "formattedRanges": [],
        "deepnote_cell_type": "text-cell-h3"
      }
    },
    {
      "cell_type": "code",
      "source": "import matplotlib.patches as mpatches\n\ni = 11\n\nr_dist = []\ns_dist = []\nn_dist = []\nvf_dist = []\n\nwhile i != 27:\n    freq_dist = df.iloc[:, i].value_counts().sort_index(ascending=True).tolist()\n    r_dist.append(freq_dist[0])\n    s_dist.append(freq_dist[1])\n    n_dist.append(freq_dist[2])\n    vf_dist.append(freq_dist[3])  \n    \n    i+=1\n\nfig, ax = plt.subplots()\n\nfor i in range (0, 16):\n    ax.bar(i, r_dist[i], label='Rare', bottom = vf_dist[i] + s_dist[i], color = \"plum\")\n    ax.bar(i, s_dist[i], label='Sometimes', bottom = vf_dist[i], color = \"mediumpurple\")\n    ax.bar(i, n_dist[i], label='Never', bottom=vf_dist[i] + s_dist[i] + r_dist[i], color = \"lightpink\")\n    ax.bar(i, vf_dist[i], label='Very frequently', color = \"navy\")\n\nax.set_title('(In Depth) Genres by Popularity')\nax.set_xticks([0,1,2,3,4,5,6,7,8,9,10,11,12,13,14,15])\nax.set_xticklabels(g_all)\nplt.xticks(rotation = 45)\n\npatch1 = mpatches.Patch(color='lightpink', label='Never')\npatch2 = mpatches.Patch(color='plum', label='Rarely')\npatch3 = mpatches.Patch(color='mediumpurple', label='Sometimes')\npatch4 = mpatches.Patch(color='navy', label='Very frequently')\n\nplt.legend(handles=[patch1, patch2, patch3, patch4], bbox_to_anchor=(1.05, 1.0), loc='upper left');",
      "metadata": {
        "tags": [],
        "cell_id": "fb34d2a9e9494051b9dcd2cd7fd4255a",
        "source_hash": "6e3e12e4",
        "execution_start": 1671339348342,
        "execution_millis": 548,
        "deepnote_to_be_reexecuted": false,
        "deepnote_cell_type": "code"
      },
      "execution_count": null,
      "outputs": []
    },
    {
      "cell_type": "code",
      "source": "import itertools\n\nmed_list = []\nmed_list2 = []\nmed_list3 = []\nmed_list4 = []\n\ndf.replace(['Never', 'Rarely', 'Sometimes', 'Very frequently'],\n                        [0, 1, 2, 3], inplace=True)\n\nfor i in range (11, 27):\n    freq_genre = df.columns[i]\n    med_list.append(pd.pivot_table(df, values='Anxiety', index=freq_genre, aggfunc=\"median\").values.tolist())\n    med_list2.append(pd.pivot_table(df, values='Depression', index=freq_genre, aggfunc=\"median\").values.tolist())\n    med_list3.append(pd.pivot_table(df, values='Insomnia', index=freq_genre, aggfunc=\"median\").values.tolist())\n    med_list4.append(pd.pivot_table(df, values='OCD', index=freq_genre, aggfunc=\"median\").values.tolist())\n\ndef m_vs_gfreq(mlist, fig_name, bd1, bd2):\n\n    r_dist = []\n    s_dist = []\n    n_dist = []\n    vf_dist = []\n\n    for i in range (0, 16):\n        n_dist.append(mlist[i][0])\n        r_dist.append(mlist[i][1])  \n        s_dist.append(mlist[i][2])  \n        vf_dist.append(mlist[i][3])  \n\n    labels = g_all\n    x = np.arange(len(labels))\n    width = 0.15\n\n    fig, ax = plt.subplots(figsize=(10, 4))\n\n    b1 = ax.bar(x-2*width, list(itertools.chain(*n_dist)), width, label=\"Never\", color = 'lightpink')\n    b2 = ax.bar(x-width, list(itertools.chain(*r_dist)), width, label=\"Rarely\", color = 'plum')\n    b3 = ax.bar(x, list(itertools.chain(*s_dist)), width, label=\"Sometimes\", color = 'mediumpurple')\n    b4 = ax.bar(x+width, list(itertools.chain(*vf_dist)), width, label=\"Very Frequently\", color = 'navy')\n\n    ax.set_ylim(bd1, bd2)\n    ax.set_ylabel('Ranking')\n    ax.set_title(fig_name)\n    ax.set_xticks(x, labels)\n    ax.legend(loc='upper left')\n\n    plt.xticks(rotation = 45)\n    plt.show()",
      "metadata": {
        "tags": [],
        "cell_id": "c51525fb4ca84973a29767e65eef46ce",
        "source_hash": "1c380d8b",
        "execution_start": 1671339348904,
        "execution_millis": 300,
        "deepnote_to_be_reexecuted": false,
        "deepnote_cell_type": "code"
      },
      "execution_count": null,
      "outputs": []
    },
    {
      "cell_type": "code",
      "source": "m_vs_gfreq(med_list, 'Relation between Anxiety & Genre Frequency', 4, 9)",
      "metadata": {
        "tags": [],
        "cell_id": "06825d6e782a4e75b831cc1aae55a984",
        "source_hash": "7b573369",
        "execution_start": 1671339349219,
        "execution_millis": 427,
        "deepnote_to_be_reexecuted": false,
        "deepnote_cell_type": "code"
      },
      "execution_count": null,
      "outputs": []
    },
    {
      "cell_type": "code",
      "source": "m_vs_gfreq(med_list2, 'Relation between Depression & Genre Frequency', 2, 8.5)",
      "metadata": {
        "tags": [],
        "cell_id": "337b5478a28a4d42a55b5ec7ed038e65",
        "source_hash": "2c9666e",
        "execution_start": 1671339349648,
        "execution_millis": 428,
        "deepnote_to_be_reexecuted": false,
        "deepnote_cell_type": "code"
      },
      "execution_count": null,
      "outputs": []
    },
    {
      "cell_type": "code",
      "source": "fig = sns.lmplot(x ='Frequency [Rock]', y ='Depression', data = df, height=3.5)\nfig.set(ylim=(2.5, 6.5))",
      "metadata": {
        "tags": [],
        "cell_id": "6cf058be1c8f480887c6b5196a674414",
        "source_hash": "c34c74d7",
        "execution_start": 1671339350080,
        "execution_millis": 547,
        "deepnote_to_be_reexecuted": false,
        "deepnote_cell_type": "code"
      },
      "execution_count": null,
      "outputs": []
    },
    {
      "cell_type": "code",
      "source": "m_vs_gfreq(med_list3, 'Relation between Insomnia & Genre Frequency', 0, 6.5)",
      "metadata": {
        "tags": [],
        "cell_id": "6cddc63f39b840ba8afb75cd3faef1b0",
        "source_hash": "8e5db98b",
        "execution_start": 1671339350631,
        "execution_millis": 424,
        "deepnote_to_be_reexecuted": false,
        "deepnote_cell_type": "code"
      },
      "execution_count": null,
      "outputs": []
    },
    {
      "cell_type": "code",
      "source": "m_vs_gfreq(med_list4, 'Relation between OCD & Genre Frequency', 0,4)",
      "metadata": {
        "tags": [],
        "cell_id": "5a130332904d4af0921c9bd9574e1576",
        "source_hash": "b4f95174",
        "execution_start": 1671339351072,
        "execution_millis": 467,
        "deepnote_to_be_reexecuted": false,
        "deepnote_cell_type": "code"
      },
      "execution_count": null,
      "outputs": []
    }
  ]
}